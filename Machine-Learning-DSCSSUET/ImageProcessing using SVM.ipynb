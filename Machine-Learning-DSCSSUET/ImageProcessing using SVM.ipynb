{
 "cells": [
  {
   "cell_type": "code",
   "execution_count": 13,
   "metadata": {},
   "outputs": [
    {
     "name": "stderr",
     "output_type": "stream",
     "text": [
      "C:\\Users\\Al-Rehman COMputers\\Anaconda3\\lib\\site-packages\\sklearn\\svm\\base.py:193: FutureWarning: The default value of gamma will change from 'auto' to 'scale' in version 0.22 to account better for unscaled features. Set gamma explicitly to 'auto' or 'scale' to avoid this warning.\n",
      "  \"avoid this warning.\", FutureWarning)\n"
     ]
    },
    {
     "name": "stdout",
     "output_type": "stream",
     "text": [
      "\n",
      "Confusion matrix : \n",
      " [[26  0  0  0  0 17  0  0  0  0]\n",
      " [ 0 19  0  0  0 27  0  0  0  0]\n",
      " [ 0  0 19  0  0 24  0  0  0  0]\n",
      " [ 0  0  0 25  0 22  0  0  0  0]\n",
      " [ 0  0  0  0 25 23  0  0  0  0]\n",
      " [ 0  0  0  0  0 45  0  0  0  0]\n",
      " [ 0  0  0  0  0 29 18  0  0  0]\n",
      " [ 0  0  0  0  0 27  0 18  0  0]\n",
      " [ 0  0  0  0  0 32  0  0  9  0]\n",
      " [ 0  0  0  0  0 21  0  0  0 24]]\n",
      "\n",
      "Accuracy =  51.0\n"
     ]
    },
    {
     "data": {
      "image/png": "[encoded data removed]",
      "text/plain": [
       "<Figure size 432x288 with 2 Axes>"
      ]
     },
     "metadata": {
      "needs_background": "light"
     },
     "output_type": "display_data"
    },
    {
     "name": "stdout",
     "output_type": "stream",
     "text": [
      "Prediction for test image: [5]\n"
     ]
    }
   ],
   "source": [
    "#Importing libraries\n",
    "import numpy as np\n",
    "import pandas as pd\n",
    "import matplotlib.pyplot as plt\n",
    "import matplotlib.cm as cm\n",
    "from sklearn import svm\n",
    "from sklearn.datasets import load_digits\n",
    "from sklearn.model_selection import train_test_split\n",
    "from sklearn.metrics import accuracy_score, confusion_matrix\n",
    "import seaborn as sns\n",
    "\n",
    "digits = datasets.load_digits()\n",
    "#print(digits)\n",
    "\n",
    "#getting features and target\n",
    "images_and_label = list(zip(digits.images, digits.target))\n",
    "\n",
    "#Flatten the images\n",
    "sample_num = len(digits.images)\n",
    "data = digits.images.reshape((sample_num, -1))\n",
    "\n",
    "#Train the model using 75% of the dataset\n",
    "trainTestSplit = int(sample_num * 0.75)\n",
    "model = svm.SVC()\n",
    "model.fit(data[:trainTestSplit], digits.target[:trainTestSplit]) \n",
    "target = digits.target[trainTestSplit:]\n",
    "\n",
    "\n",
    "#Drawing prediction from the trained model\n",
    "predictions = model.predict(dataset[trainTestSplit:])\n",
    "\n",
    "#Finding error matrix and accuracy\n",
    "EM = confusion_matrix(target, predictions)\n",
    "Acc = accuracy_score(target, predictions)\n",
    "\n",
    "#Printing out the error matrix and Accuracy\n",
    "print(\"\\nConfusion matrix : \\n\", EM)\n",
    "print(\"\\nAccuracy = \", str(round(Acc * 100)))\n",
    "\n",
    "#Visualizing Confusion(Error) matrix using seaborn\n",
    "sns.heatmap(confusion_matrix(target, predict), annot = True, cmap = 'Reds')\n",
    "\n",
    "#Predicting the target\n",
    "plt.imshow(digits.images[-55], cmap = plt.cm.gray_r, interpolation = \"nearest\")\n",
    "plt.show()\n",
    "print(\"Prediction for test image:\", model.predict(data[-55].reshape(1,-1)))"
   ]
  },
  {
   "cell_type": "code",
   "execution_count": null,
   "metadata": {},
   "outputs": [],
   "source": []
  }
 ],
 "metadata": {
  "kernelspec": {
   "display_name": "Python 3",
   "language": "python",
   "name": "python3"
  },
  "language_info": {
   "codemirror_mode": {
    "name": "ipython",
    "version": 3
   },
   "file_extension": ".py",
   "mimetype": "text/x-python",
   "name": "python",
   "nbconvert_exporter": "python",
   "pygments_lexer": "ipython3",
   "version": "3.7.4"
  }
 },
 "nbformat": 4,
 "nbformat_minor": 2
}
