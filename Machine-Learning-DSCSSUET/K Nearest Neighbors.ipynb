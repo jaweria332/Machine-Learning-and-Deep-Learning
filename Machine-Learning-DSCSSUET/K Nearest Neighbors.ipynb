{
 "cells": [
  {
   "cell_type": "code",
   "execution_count": 12,
   "metadata": {},
   "outputs": [
    {
     "name": "stdout",
     "output_type": "stream",
     "text": [
      "283\n",
      "clientid    0\n",
      "income      0\n",
      "age         0\n",
      "loan        0\n",
      "LTI         0\n",
      "default     0\n",
      "dtype: int64\n"
     ]
    },
    {
     "data": {
      "image/png": "[encoded data removed]",
      "text/plain": [
       "<Figure size 432x288 with 1 Axes>"
      ]
     },
     "metadata": {
      "needs_background": "light"
     },
     "output_type": "display_data"
    },
    {
     "name": "stderr",
     "output_type": "stream",
     "text": [
      "C:\\Users\\Al-Rehman COMputers\\Anaconda3\\lib\\site-packages\\ipykernel_launcher.py:43: DataConversionWarning: A column-vector y was passed when a 1d array was expected. Please change the shape of y to (n_samples, ), for example using ravel().\n"
     ]
    },
    {
     "data": {
      "text/plain": [
       "<matplotlib.axes._subplots.AxesSubplot at 0x1dc381981c8>"
      ]
     },
     "execution_count": 12,
     "metadata": {},
     "output_type": "execute_result"
    },
    {
     "data": {
      "image/png": "[encoded data removed]",
      "text/plain": [
       "<Figure size 432x288 with 2 Axes>"
      ]
     },
     "metadata": {
      "needs_background": "light"
     },
     "output_type": "display_data"
    }
   ],
   "source": [
    "#Importing libraries\n",
    "import numpy as np\n",
    "import pandas as pd\n",
    "import matplotlib.pyplot as plt\n",
    "from sklearn.preprocessing import MinMaxScaler\n",
    "from sklearn.model_selection import train_test_split, cross_val_score\n",
    "from sklearn.metrics import confusion_matrix, accuracy_score\n",
    "from sklearn.neighbors import KNeighborsClassifier\n",
    "import seaborn as sns\n",
    "\n",
    "#Reading dataset\n",
    "dataset = pd.read_csv(\"E:\\\\ML Zero to Hero\\\\credit_data.csv\")\n",
    "\n",
    "#Printing out top 10 rows of dataset\n",
    "#print(dataset.head(10))\n",
    "\n",
    "#To know the number of 1's in default column\n",
    "print(dataset.default.sum())\n",
    "\n",
    "#Find number of missing values in each column of dataset\n",
    "print(dataset.isna().sum(axis = 0))\n",
    "\n",
    "#Extracting features from dataset\n",
    "x = dataset[[\"income\", \"age\", \"loan\"]]\n",
    "y = dataset[[\"default\"]]\n",
    "\n",
    "#Visualizing scatter plot\n",
    "plt.scatter(dataset.income, dataset.default)\n",
    "plt.scatter(dataset.age, dataset.default)\n",
    "plt.scatter(dataset.loan, dataset.default)\n",
    "plt.title(\"K Neighbor Classifier\")\n",
    "plt.show()\n",
    "\n",
    "#As values are going too large that is 70000, scale the features\n",
    "MMS = MinMaxScaler()\n",
    "x = MMS.fit_transform(x)\n",
    "\n",
    "#Splitting dataset into train and test set\n",
    "x_train, x_test, y_train, y_test = train_test_split(x , y , test_size = 0.3)\n",
    "\n",
    "#Train the model\n",
    "KNC = KNeighborsClassifier()\n",
    "model = KNC.fit(x, y)\n",
    "\n",
    "#Drawing prediction from trained model\n",
    "predict = model.predict(x_test)\n",
    "\n",
    "#Find error matrix and accuracy\n",
    "CM = confusion_matrix(y_test, predict)\n",
    "Acc = accuracy_score(y_test, predict)\n",
    "\n",
    "#Printing error matrix and accuracy\n",
    "sns.heatmap(confusion_matrix(y_test, predict), annot = True, cmap = 'Purples')"
   ]
  },
  {
   "cell_type": "code",
   "execution_count": null,
   "metadata": {},
   "outputs": [],
   "source": []
  }
 ],
 "metadata": {
  "kernelspec": {
   "display_name": "Python 3",
   "language": "python",
   "name": "python3"
  },
  "language_info": {
   "codemirror_mode": {
    "name": "ipython",
    "version": 3
   },
   "file_extension": ".py",
   "mimetype": "text/x-python",
   "name": "python",
   "nbconvert_exporter": "python",
   "pygments_lexer": "ipython3",
   "version": "3.7.4"
  }
 },
 "nbformat": 4,
 "nbformat_minor": 2
}
