{
 "cells": [
  {
   "cell_type": "markdown",
   "metadata": {},
   "source": [
    "# LOGISTIC REGRESSION"
   ]
  },
  {
   "cell_type": "markdown",
   "metadata": {},
   "source": [
    "Logistic regression is used when we have to draw binary decision from the dataset, that is either 'TRUE' or 'FALSE' OR 'YES' of 'NO' etc."
   ]
  },
  {
   "cell_type": "markdown",
   "metadata": {},
   "source": [
    "Example include :  detecting patients survival, detecting cancer in patience, checking spam email."
   ]
  },
  {
   "cell_type": "code",
   "execution_count": 13,
   "metadata": {},
   "outputs": [
    {
     "name": "stdout",
     "output_type": "stream",
     "text": [
      "(1310, 4)\n",
      "            pclass     survived          age\n",
      "count  1309.000000  1309.000000  1046.000000\n",
      "mean      2.294882     0.381971    29.881135\n",
      "std       0.837836     0.486055    14.413500\n",
      "min       1.000000     0.000000     0.166700\n",
      "25%       2.000000     0.000000    21.000000\n",
      "50%       3.000000     0.000000    28.000000\n",
      "75%       3.000000     1.000000    39.000000\n",
      "max       3.000000     1.000000    80.000000\n",
      "pclass        1\n",
      "survived      1\n",
      "sex           1\n",
      "age         264\n",
      "dtype: int64\n",
      "pclass        0\n",
      "survived      0\n",
      "sex           0\n",
      "age         263\n",
      "dtype: int64\n"
     ]
    },
    {
     "name": "stderr",
     "output_type": "stream",
     "text": [
      "C:\\Users\\Al-Rehman COMputers\\Anaconda3\\lib\\site-packages\\ipykernel_launcher.py:32: SettingWithCopyWarning: \n",
      "A value is trying to be set on a copy of a slice from a DataFrame.\n",
      "Try using .loc[row_indexer,col_indexer] = value instead\n",
      "\n",
      "See the caveats in the documentation: http://pandas.pydata.org/pandas-docs/stable/user_guide/indexing.html#returning-a-view-versus-a-copy\n",
      "C:\\Users\\Al-Rehman COMputers\\Anaconda3\\lib\\site-packages\\sklearn\\linear_model\\logistic.py:432: FutureWarning: Default solver will be changed to 'lbfgs' in 0.22. Specify a solver to silence this warning.\n",
      "  FutureWarning)\n",
      "C:\\Users\\Al-Rehman COMputers\\Anaconda3\\lib\\site-packages\\sklearn\\utils\\validation.py:724: DataConversionWarning: A column-vector y was passed when a 1d array was expected. Please change the shape of y to (n_samples, ), for example using ravel().\n",
      "  y = column_or_1d(y, warn=True)\n"
     ]
    },
    {
     "name": "stdout",
     "output_type": "stream",
     "text": [
      "Confusion Matrix = \n",
      " [[178  32]\n",
      " [ 32  86]]\n",
      "\n",
      "Accuracy = \n",
      "80.0%\n"
     ]
    }
   ],
   "source": [
    "#Importing necessary libraries\n",
    "import numpy as np\n",
    "import pandas as pd\n",
    "import matplotlib.pyplot as plt\n",
    "from sklearn.preprocessing import StandardScaler\n",
    "from sklearn.linear_model import LogisticRegression\n",
    "from sklearn.model_selection import train_test_split\n",
    "from sklearn.metrics import confusion_matrix\n",
    "from sklearn.metrics import accuracy_score\n",
    "from sklearn.impute import SimpleImputer\n",
    "\n",
    "#Reading dataset\n",
    "dataset = pd.read_csv(\"E:\\\\ML Zero to Hero\\\\titanic.csv\")\n",
    "data = dataset[[\"pclass\",\"survived\", \"sex\", \"age\"]]\n",
    "\n",
    "#Check number of rows and column in data\n",
    "print(data.shape)\n",
    "\n",
    "#Check Data\n",
    "print(data.describe())\n",
    "\n",
    "#Find number or missing values in each column and returning its sum, Here axis=0 means sum values of column\n",
    "print(data.isna().sum(axis=0))\n",
    "\n",
    "#Drop unknown values\n",
    "dataset = data.dropna(subset=[\"sex\", \"pclass\", \"survived\"])\n",
    "\n",
    "#Now Check number of NaN in each column\n",
    "print(dataset.isna().sum(axis=0))\n",
    "\n",
    "#Transform male and female value of sex column into integer as Machine can't process text\n",
    "dataset[\"sex\"] = dataset[\"sex\"].map({\"male\":0, \"female\":1})\n",
    "\n",
    "#Extract feautures(x and y values) from dataset\n",
    "x = dataset[[\"sex\",\"age\",\"pclass\"]]\n",
    "y = dataset[[\"survived\"]]\n",
    "\n",
    "#Preprocessing of missing values in dataset using Imputation\n",
    "imp = SimpleImputer(missing_values = np.nan, strategy = 'mean')\n",
    "x = imp.fit_transform(x)\n",
    "\n",
    "#Transform data into test and training dataset\n",
    "x_train, x_test, y_train, y_test = train_test_split(x, y)\n",
    "\n",
    "#Train model using Logistic Regression\n",
    "LR = LogisticRegression()\n",
    "LR.fit(x_train, y_train)\n",
    "\n",
    "#Drawing prediction from model\n",
    "prediction = LR.predict(x_test)\n",
    "\n",
    "#Finding confusion matrix\n",
    "CM = confusion_matrix(y_test, prediction)\n",
    "\n",
    "#Finding accuracy\n",
    "acc = accuracy_score(y_test, prediction)\n",
    "\n",
    "#Printing the results\n",
    "print(\"Confusion Matrix = \\n\", CM)\n",
    "print(\"\\nAccuracy = \\n\" + str(round(acc * 100)) + \"%\")\n"
   ]
  },
  {
   "cell_type": "code",
   "execution_count": null,
   "metadata": {},
   "outputs": [],
   "source": []
  }
 ],
 "metadata": {
  "kernelspec": {
   "display_name": "Python 3",
   "language": "python",
   "name": "python3"
  },
  "language_info": {
   "codemirror_mode": {
    "name": "ipython",
    "version": 3
   },
   "file_extension": ".py",
   "mimetype": "text/x-python",
   "name": "python",
   "nbconvert_exporter": "python",
   "pygments_lexer": "ipython3",
   "version": "3.7.4"
  }
 },
 "nbformat": 4,
 "nbformat_minor": 2
}
