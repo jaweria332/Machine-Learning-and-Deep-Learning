{
 "cells": [
  {
   "cell_type": "code",
   "execution_count": 20,
   "metadata": {},
   "outputs": [
    {
     "name": "stderr",
     "output_type": "stream",
     "text": [
      "<ipython-input-20-cc3775e5dd22>:18: UserWarning: Pandas doesn't allow columns to be created via a new attribute name - see https://pandas.pydata.org/pandas-docs/stable/indexing.html#attribute-access\n",
      "  dataset.x = dataset[[\"income\", \"age\", \"loan\"]]\n",
      "<ipython-input-20-cc3775e5dd22>:19: UserWarning: Pandas doesn't allow columns to be created via a new attribute name - see https://pandas.pydata.org/pandas-docs/stable/indexing.html#attribute-access\n",
      "  dataset.y = dataset.default\n"
     ]
    },
    {
     "name": "stdout",
     "output_type": "stream",
     "text": [
      "   clientid        income        age         loan       LTI  default\n",
      "0         1  66155.925095  59.017015  8106.532131  0.122537        0\n",
      "1         2  34415.153966  48.117153  6564.745018  0.190752        0\n",
      "2         3  57317.170063  63.108049  8020.953296  0.139940        0\n",
      "3         4  42709.534201  45.751972  6103.642260  0.142911        0\n",
      "4         5  66952.688845  18.584336  8770.099235  0.130989        1\n",
      "\n",
      "Error Matrix : \n",
      " [[421  10]\n",
      " [ 25  44]]\n",
      "\n",
      "Accuracy score =  93.0\n",
      "Enter Income : 66952.688845\n",
      "Enter age : 18.58\n",
      "Enter loan : 8770.099\n",
      "[[66952.688845, 18.58, 8770.099]]\n",
      "This user is defaulter.\n"
     ]
    },
    {
     "data": {
      "image/png": "[encoded data removed]",
      "text/plain": [
       "<Figure size 432x288 with 2 Axes>"
      ]
     },
     "metadata": {
      "needs_background": "light"
     },
     "output_type": "display_data"
    }
   ],
   "source": [
    "#Importing libraries\n",
    "import numpy as np\n",
    "import pandas as pd\n",
    "import matplotlib.pyplot as plt\n",
    "from sklearn.model_selection import train_test_split, cross_val_score\n",
    "from sklearn.metrics import confusion_matrix, accuracy_score\n",
    "from sklearn.naive_bayes import GaussianNB\n",
    "import math\n",
    "from sklearn import preprocessing\n",
    "\n",
    "#reading datafile\n",
    "dataset = pd.read_csv(\"E:\\\\ML Zero to Hero\\\\credit_data(2).csv\")\n",
    "\n",
    "#To overview dataset, simply print the first five rows of data using data.head\n",
    "print(dataset.head())\n",
    "\n",
    "#Separating features and target as x and y\n",
    "dataset.x = dataset[[\"income\", \"age\", \"loan\"]]\n",
    "dataset.y = dataset.default\n",
    "\n",
    "#Dividing data into train test split\n",
    "x_train, x_test, y_train, y_test = train_test_split(dataset.x, dataset.y)\n",
    "\n",
    "#Training the model\n",
    "model = GaussianNB()\n",
    "model = model.fit(x_train, y_train)\n",
    "\n",
    "#Drawing prediction\n",
    "predictions = model.predict(x_test)\n",
    "\n",
    "#Finding error matrix and accuracy\n",
    "EM = confusion_matrix(y_test, predictions)\n",
    "Acc = accuracy_score(y_test, predictions)\n",
    "\n",
    "#Printing Error matrix and Accuracy\n",
    "print(\"\\nError Matrix : \\n\", EM)\n",
    "print(\"\\nAccuracy score = \", str(round(Acc * 100)))\n",
    "\n",
    "#Plotting the error matrix using seaborn\n",
    "import seaborn as sb\n",
    "sb.heatmap(confusion_matrix(y_test, predictions), annot = True, cmap = 'Reds')\n",
    "\n",
    "#------------------------Taking user input to draw predictions according to trained model----------------------#\n",
    "\n",
    "#Take user input and parse it into float\n",
    "income = float(input(\"Enter Income : \"))\n",
    "age = float(input(\"Enter age : \"))\n",
    "loan = float(input(\"Enter loan : \"))\n",
    "\n",
    "#Gathering the required features\n",
    "features_test = [[income, age, loan]]\n",
    "\n",
    "#Predicting result\n",
    "predictions = model.predict(features_test)\n",
    "\n",
    "#Printing appropriate output for user input\n",
    "if (predictions == 0):\n",
    "    print(\"This user is not defaulter.\")\n",
    "elif (predictions == 1):\n",
    "    print(\"This user is defaulter.\")\n"
   ]
  },
  {
   "cell_type": "code",
   "execution_count": null,
   "metadata": {},
   "outputs": [],
   "source": []
  }
 ],
 "metadata": {
  "kernelspec": {
   "display_name": "Python 3",
   "language": "python",
   "name": "python3"
  },
  "language_info": {
   "codemirror_mode": {
    "name": "ipython",
    "version": 3
   },
   "file_extension": ".py",
   "mimetype": "text/x-python",
   "name": "python",
   "nbconvert_exporter": "python",
   "pygments_lexer": "ipython3",
   "version": "3.8.3"
  }
 },
 "nbformat": 4,
 "nbformat_minor": 4
}
